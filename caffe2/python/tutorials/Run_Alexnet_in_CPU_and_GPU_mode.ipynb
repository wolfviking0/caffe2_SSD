{
 "cells": [
  {
   "cell_type": "markdown",
   "metadata": {},
   "source": [
    "# Run Alexnet in CPU and GPU\n",
    "\n",
<<<<<<< HEAD
    "In this tutorial, I'll run Alexnet and show the speed in Caffe2. Before this, I recommend you to read anothor tutorial [Loading Pre-Trained Model](https://github.com/caffe2/caffe2/blob/master/caffe2/python/tutorials/Loading_Pretrained_Models.ipynb).\n",
=======
    "In this tutorial, I'll run Alexnet and show the speed and gpu memory cost in Caffe2. Before this, I recommend you to read anothor tutorial [Loading Pre-Trained Model](https://github.com/caffe2/caffe2/blob/master/caffe2/python/tutorials/Loading_Pretrained_Models.ipynb).\n",
>>>>>>> update
    "\n",
    "## Convert Alexnet from caffe to caffe2\n",
    "\n",
    "First, we need to download the [deploy.prototxt](https://github.com/BVLC/caffe/blob/master/models/bvlc_alexnet/deploy.prototxt) and [bvlc_alexnet.caffemodel](http://dl.caffe.berkeleyvision.org/bvlc_alexnet.caffemodel).\n",
    "\n",
    "```\n",
    "wget https://raw.githubusercontent.com/BVLC/caffe/master/models/bvlc_alexnet/deploy.prototxt\n",
    "wget http://dl.caffe.berkeleyvision.org/bvlc_alexnet.caffemodel\n",
    "```\n",
    "\n",
    "After that, if you have Caffe2 installed you can find caffe_translator.py in CAFFE_ROOT/caffe2/python. The following command will help you to convert Alexnet into caffe2.\n",
    "\n",
    "```\n",
    "python caffe_translator.py tutorials/deploy.prototxt tutorials/bvlc_alexnet.caffemodel --init_net tutorials/init_net.pb --predict_net tutorials/predict_net.pb\n",
    "```\n",
    "\n",
    "## Run Alexnet in CPU mode\n",
    "\n",
    "Now, let's write some code to run Alexnet in cpu mode."
   ]
  },
  {
   "cell_type": "code",
   "execution_count": 6,
   "metadata": {
    "collapsed": true
   },
   "outputs": [],
   "source": [
    "# First let's import a few things needed.\n",
    "import numpy as np\n",
    "import os, time\n",
    "\n",
    "from caffe2.proto import caffe2_pb2\n",
    "from caffe2.python import workspace\n",
    "\n",
    "# set the root of caffe2\n",
    "caffe_root = '~/caffe2'\n",
    "\n",
    "# set the path of init_net and predict_net\n",
    "init_net_path = os.path.join(caffe_root, 'caffe2/python/tutorials/init_net.pb')\n",
    "predict_net_path = os.path.join(caffe_root, 'caffe2/python/tutorials/predict_net.pb')"
   ]
  },
  {
   "cell_type": "code",
   "execution_count": 10,
   "metadata": {
    "collapsed": true
   },
   "outputs": [],
   "source": [
    "# We set the device options to CPU\n",
    "device_opts = caffe2_pb2.DeviceOption()\n",
    "device_opts.device_type = caffe2_pb2.CPU"
   ]
  },
  {
   "cell_type": "code",
   "execution_count": 18,
   "metadata": {},
   "outputs": [
    {
     "name": "stdout",
     "output_type": "stream",
     "text": [
      "[u'_fc6_mask', u'_fc7_mask', u'_norm1_scale', u'_norm2_scale', u'conv1', u'conv1_b', u'conv1_w', u'conv2', u'conv2_b', u'conv2_w', u'conv3', u'conv3_b', u'conv3_w', u'conv4', u'conv4_b', u'conv4_w', u'conv5', u'conv5_b', u'conv5_w', u'data', u'fc6', u'fc6_b', u'fc6_w', u'fc7', u'fc7_b', u'fc7_w', u'fc8', u'fc8_b', u'fc8_w', u'norm1', u'norm2', u'pool1', u'pool2', u'pool5', u'prob']\n",
      "(96, 3, 11, 11)\n",
      "(1,)\n"
     ]
    }
   ],
   "source": [
    "# load init_net which contains the blobs of alexnet\n",
    "init_def = caffe2_pb2.NetDef()\n",
    "with open(init_net_path, 'r') as f:\n",
    "    init_def.ParseFromString(f.read())\n",
    "    init_def.device_option.CopyFrom(device_opts)\n",
    "    workspace.RunNetOnce(init_def)\n",
    "\n",
    "print workspace.Blobs()\n",
    "print workspace.FetchBlob('conv1_w').shape\n",
    "print workspace.FetchBlob('data').shape"
   ]
  },
  {
   "cell_type": "code",
   "execution_count": 22,
   "metadata": {},
   "outputs": [
    {
     "name": "stdout",
     "output_type": "stream",
     "text": [
      "AlexNet\n",
      "[u'_fc6_mask', u'_fc7_mask', u'_norm1_scale', u'_norm2_scale', u'conv1', u'conv1_b', u'conv1_w', u'conv2', u'conv2_b', u'conv2_w', u'conv3', u'conv3_b', u'conv3_w', u'conv4', u'conv4_b', u'conv4_w', u'conv5', u'conv5_b', u'conv5_w', u'data', u'fc6', u'fc6_b', u'fc6_w', u'fc7', u'fc7_b', u'fc7_w', u'fc8', u'fc8_b', u'fc8_w', u'norm1', u'norm2', u'pool1', u'pool2', u'pool5', u'prob']\n",
      "_fc7_mask, a C++ native class of type nullptr (uninitialized).\n"
     ]
    }
   ],
   "source": [
    "# load predict_net\n",
    "net_def = caffe2_pb2.NetDef()\n",
    "with open(predict_net_path, 'r') as f:\n",
    "    net_def.ParseFromString(f.read())\n",
    "    net_def.device_option.CopyFrom(device_opts)\n",
    "    workspace.CreateNet(net_def, overwrite=True)\n",
    "\n",
    "print net_def.name\n",
    "print workspace.Blobs()\n",
    "print workspace.FetchBlob('_fc7_mask')"
   ]
  },
  {
   "cell_type": "code",
   "execution_count": 21,
   "metadata": {},
   "outputs": [
    {
     "name": "stdout",
     "output_type": "stream",
     "text": [
      "(1, 3, 227, 227)\n"
     ]
    }
   ],
   "source": [
    "# here we feed the data blob with 1x3x227x227 and type of float32\n",
    "workspace.FeedBlob('data', np.random.rand(1, 3, 227, 227).astype(np.float32), device_opts)\n",
    "print workspace.FetchBlob('data').shape"
   ]
  },
  {
   "cell_type": "code",
   "execution_count": 24,
   "metadata": {},
   "outputs": [
    {
     "name": "stdout",
     "output_type": "stream",
     "text": [
      "Run time per RunNet: 0.161446561813\n"
     ]
    }
   ],
   "source": [
    "# run alexnet 50 iters in cpu mode\n",
    "num_iters = 50\n",
    "start = time.time()\n",
    "for i in range(num_iters):\n",
    "    workspace.RunNet(net_def.name, 1)\n",
    "end = time.time()\n",
    "print('Run time per RunNet: {}'.format((end - start) / num_iters))"
   ]
  },
  {
   "cell_type": "code",
   "execution_count": 29,
   "metadata": {
    "collapsed": true
   },
   "outputs": [],
   "source": [
    "# benchmark alexnet\n",
    "warmup_runs = 10\n",
    "main_runs = 50\n",
    "run_individual = True\n",
    "cpu_stats = workspace.BenchmarkNet(net_def.name, warmup_runs, main_runs, run_individual)"
   ]
  },
  {
   "cell_type": "code",
   "execution_count": 30,
   "metadata": {},
   "outputs": [
    {
     "name": "stdout",
     "output_type": "stream",
     "text": [
      "Operator #0 Milliseconds per iter: 158.544464111 ms/iters\n",
      "Operator #1 (conv1, Conv) 10.0862464905 ms/iters\n",
      "Operator #2 (conv1, Relu) 0.152279004455 ms/iters\n",
      "Operator #3 (norm1, LRN) 15.3392858505 ms/iters\n",
      "Operator #4 (pool1, MaxPool) 1.75234615803 ms/iters\n",
      "Operator #5 (conv2, Conv) 17.9576473236 ms/iters\n",
      "Operator #6 (conv2, Relu) 0.101289302111 ms/iters\n",
      "Operator #7 (norm2, LRN) 11.8667507172 ms/iters\n",
      "Operator #8 (pool2, MaxPool) 1.29284083843 ms/iters\n",
      "Operator #9 (conv3, Conv) 15.8340377808 ms/iters\n",
      "Operator #10 (conv3, Relu) 0.015605058521 ms/iters\n",
      "Operator #11 (conv4, Conv) 6.03665542603 ms/iters\n",
      "Operator #12 (conv4, Relu) 0.0141125591472 ms/iters\n",
      "Operator #13 (conv5, Conv) 5.42444992065 ms/iters\n",
      "Operator #14 (conv5, Relu) 0.00877944100648 ms/iters\n",
      "Operator #15 (pool5, MaxPool) 0.278489500284 ms/iters\n",
      "Operator #16 (fc6, FC) 42.2674255371 ms/iters\n",
      "Operator #17 (fc6, Relu) 0.00187726004515 ms/iters\n",
      "Operator #18 (fc6, Dropout) 0.0027340000961 ms/iters\n",
      "Operator #19 (fc7, FC) 18.0905380249 ms/iters\n",
      "Operator #20 (fc7, Relu) 0.00157702004071 ms/iters\n",
      "Operator #21 (fc7, Dropout) 0.00167087989394 ms/iters\n",
      "Operator #22 (fc8, FC) 4.12333965302 ms/iters\n",
      "Operator #23 (prob, Softmax) 0.0149464607239 ms/iters\n"
     ]
    }
   ],
   "source": [
    "# TODO: I havn't found a proper way to get operators of net. \n",
    "operators = [\n",
    "    'Milliseconds per iter: {}',\n",
    "    '(conv1, Conv) {}',\n",
    "    '(conv1, Relu) {}',\n",
    "    '(norm1, LRN) {}',\n",
    "    '(pool1, MaxPool) {}',\n",
    "    '(conv2, Conv) {}',\n",
    "    '(conv2, Relu) {}',\n",
    "    '(norm2, LRN) {}',\n",
    "    '(pool2, MaxPool) {}',\n",
    "    '(conv3, Conv) {}',\n",
    "    '(conv3, Relu) {}',\n",
    "    '(conv4, Conv) {}',\n",
    "    '(conv4, Relu) {}',\n",
    "    '(conv5, Conv) {}',\n",
    "    '(conv5, Relu) {}',\n",
    "    '(pool5, MaxPool) {}',\n",
    "    '(fc6, FC) {}',\n",
    "    '(fc6, Relu) {}',\n",
    "    '(fc6, Dropout) {}',\n",
    "    '(fc7, FC) {}',\n",
    "    '(fc7, Relu) {}',\n",
    "    '(fc7, Dropout) {}',\n",
    "    '(fc8, FC) {}',\n",
    "    '(prob, Softmax) {}'\n",
    "]\n",
    "def show_stats(stats):\n",
    "    len_stat = len(stats)\n",
    "    for i in range(len_stat):\n",
    "        print 'Operator #{} '.format(i) + operators[i].format(stats[i]) + ' ms/iters'\n",
    "\n",
    "show_stats(cpu_stats)"
   ]
  },
  {
   "cell_type": "markdown",
   "metadata": {},
   "source": [
    "## Run Alexnet in GPU mode\n",
    "\n",
    "Runing Alexnet in gpu mode is simple. The only changes is device_opts."
   ]
  },
  {
   "cell_type": "code",
   "execution_count": 40,
   "metadata": {},
   "outputs": [
    {
     "data": {
      "text/plain": [
       "True"
      ]
     },
     "execution_count": 40,
     "metadata": {},
     "output_type": "execute_result"
    }
   ],
   "source": [
    "# first, reset workspace\n",
    "workspace.ResetWorkspace()"
   ]
  },
  {
   "cell_type": "code",
   "execution_count": 41,
   "metadata": {
    "collapsed": true
   },
   "outputs": [],
   "source": [
    "# set the device options to CUDA\n",
    "device_opts = caffe2_pb2.DeviceOption()\n",
    "device_opts.device_type = caffe2_pb2.CUDA\n",
    "device_opts.cuda_gpu_id = 0"
   ]
  },
  {
   "cell_type": "code",
   "execution_count": 42,
   "metadata": {},
   "outputs": [
    {
     "name": "stdout",
     "output_type": "stream",
     "text": [
      "Run time per RunNet: 0.00201209211349\n"
     ]
    }
   ],
   "source": [
    "# init net\n",
    "init_def = caffe2_pb2.NetDef()\n",
    "with open(init_net_path, 'r') as f:\n",
    "    init_def.ParseFromString(f.read())\n",
    "    init_def.device_option.CopyFrom(device_opts)\n",
    "    workspace.RunNetOnce(init_def)\n",
    "\n",
    "# create net\n",
    "net_def = caffe2_pb2.NetDef()\n",
    "with open(predict_net_path, 'r') as f:\n",
    "    net_def.ParseFromString(f.read())\n",
    "    net_def.device_option.CopyFrom(device_opts)\n",
    "    workspace.CreateNet(net_def, overwrite=True)\n",
    "\n",
    "# feed data blob\n",
    "workspace.FeedBlob('data', np.random.rand(1, 3, 227, 227).astype(np.float32), device_opts)\n",
    "\n",
    "# run alexnet 1000 iters in gpu mode\n",
    "num_iters = 1000\n",
    "start = time.time()\n",
    "for i in range(num_iters):\n",
    "    workspace.RunNet(net_def.name, 1)\n",
    "end = time.time()\n",
    "print('Run time per RunNet: {}'.format((end - start) / num_iters))\n",
    "\n",
    "# benchmark alexnet\n",
    "warmup_runs = 50\n",
    "main_runs = 1000\n",
    "run_individual = True\n",
    "gpu_stats = workspace.BenchmarkNet(net_def.name, warmup_runs, main_runs, run_individual)"
   ]
  },
  {
   "cell_type": "code",
   "execution_count": 43,
   "metadata": {},
   "outputs": [
    {
     "name": "stdout",
     "output_type": "stream",
     "text": [
      "Operator #0 Milliseconds per iter: 1.70603919029 ms/iters\n",
      "Operator #1 (conv1, Conv) 0.102756902575 ms/iters\n",
      "Operator #2 (conv1, Relu) 0.0112983090803 ms/iters\n",
      "Operator #3 (norm1, LRN) 0.0401390828192 ms/iters\n",
      "Operator #4 (pool1, MaxPool) 0.020453164354 ms/iters\n",
      "Operator #5 (conv2, Conv) 0.166687503457 ms/iters\n",
      "Operator #6 (conv2, Relu) 0.0109590971842 ms/iters\n",
      "Operator #7 (norm2, LRN) 0.0613889656961 ms/iters\n",
      "Operator #8 (pool2, MaxPool) 0.0173483639956 ms/iters\n",
      "Operator #9 (conv3, Conv) 0.111571870744 ms/iters\n",
      "Operator #10 (conv3, Relu) 0.0101103847846 ms/iters\n",
      "Operator #11 (conv4, Conv) 0.150309726596 ms/iters\n",
      "Operator #12 (conv4, Relu) 0.00984948966652 ms/iters\n",
      "Operator #13 (conv5, Conv) 0.147298529744 ms/iters\n",
      "Operator #14 (conv5, Relu) 0.00964171625674 ms/iters\n",
      "Operator #15 (pool5, MaxPool) 0.0151336118579 ms/iters\n",
      "Operator #16 (fc6, FC) 0.480961769819 ms/iters\n",
      "Operator #17 (fc6, Relu) 0.00969945359975 ms/iters\n",
      "Operator #18 (fc6, Dropout) 0.00229897466488 ms/iters\n",
      "Operator #19 (fc7, FC) 0.214303538203 ms/iters\n",
      "Operator #20 (fc7, Relu) 0.00927217118442 ms/iters\n",
      "Operator #21 (fc7, Dropout) 0.00193213194143 ms/iters\n",
      "Operator #22 (fc8, FC) 0.0633651390672 ms/iters\n",
      "Operator #23 (prob, Softmax) 0.0434232056141 ms/iters\n"
     ]
    }
   ],
   "source": [
    "# These stats are runing in TITAN X\n",
    "show_stats(gpu_stats)"
   ]
  }
 ],
 "metadata": {
  "kernelspec": {
   "display_name": "Python 2",
   "language": "python",
   "name": "python2"
  },
  "language_info": {
   "codemirror_mode": {
    "name": "ipython",
    "version": 2
   },
   "file_extension": ".py",
   "mimetype": "text/x-python",
   "name": "python",
   "nbconvert_exporter": "python",
   "pygments_lexer": "ipython2",
   "version": "2.7.12"
  }
 },
 "nbformat": 4,
 "nbformat_minor": 2
}
